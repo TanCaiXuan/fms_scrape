{
 "cells": [
  {
   "cell_type": "code",
   "execution_count": 2,
   "id": "66b439dc",
   "metadata": {},
   "outputs": [],
   "source": [
    "# Importing necessary libraries\n",
    "import firebase_admin\n",
    "from firebase_admin import credentials, firestore\n",
    "\n",
    "# Initialize Firebase Admin SDK with your service account key\n",
    "cred = credentials.Certificate('fmsdb-e4283-firebase-adminsdk-7jzkd-f40c56c494.json')\n",
    "firebase_admin.initialize_app(cred)\n",
    "\n",
    "# Initialize Firestore\n",
    "db = firestore.client()\n"
   ]
  },
  {
   "cell_type": "code",
   "execution_count": 4,
   "id": "b89470ef",
   "metadata": {},
   "outputs": [
    {
     "name": "stdout",
     "output_type": "stream",
     "text": [
      "Data has been stored in Firebase Firestore\n"
     ]
    }
   ],
   "source": [
    "from selenium import webdriver\n",
    "from selenium.webdriver.common.by import By\n",
    "import pandas as pd\n",
    "import firebase_admin\n",
    "from firebase_admin import credentials\n",
    "from firebase_admin import firestore  # Use Firestore database\n",
    "\n",
    "# Set up the Selenium WebDriver\n",
    "driver = webdriver.Chrome()\n",
    "\n",
    "# URL of the webpage containing the table\n",
    "url = \"https://infobencanajkmv2.jkm.gov.my/landing/index.php?a=1#!\"\n",
    "driver.get(url)\n",
    "\n",
    "# Locate the table using its id\n",
    "table = driver.find_element(By.ID, \"overviewPPS\")\n",
    "\n",
    "# Locate all rows within the table\n",
    "rows = table.find_elements(By.TAG_NAME, \"tr\")[1:]  # [1:] to skip the header row\n",
    "\n",
    "# Initialize an empty list to store the data\n",
    "data = []\n",
    "for row in rows:\n",
    "    cells = row.find_elements(By.TAG_NAME, \"td\")\n",
    "    row_data = []\n",
    "    for cell in cells:\n",
    "        row_data.append(cell.text)  # Extracting text from each cell\n",
    "    data.append(row_data)\n",
    "\n",
    "# Convert the data into a Pandas DataFrame\n",
    "df = pd.DataFrame(data, columns=[\"Cari\",\n",
    "    \"Nama\",\"Cari\", \"Daerah\", \"Mukim\", \"Buka\", \"Kapasiti\", \"Mangsa\", \n",
    "    \"Keluarga\", \"Lelaki Dewasa\", \"Perempuan Dewasa\", \n",
    "    \"Kanak-kanak Lelaki\", \"Kanak-kanak Perempuan\", \"Bayi Lelaki\", \"Bayi Perempuan\",\n",
    "])\n",
    "\n",
    "# Remove the \"Cari\" column if it exists\n",
    "if \"Cari\" in df.columns:\n",
    "    df.drop(\"Cari\", axis=1, inplace=True)\n",
    "    \n",
    "df.rename(columns={\n",
    "    \"Nama\": \"name\",\n",
    "    \"Daerah\": \"district\",\n",
    "    \"Mukim\": \"subdistrict\",\n",
    "    \"Buka\": \"open\",\n",
    "    \"Kapasiti\": \"capacity\",\n",
    "    \"Mangsa\": \"victims\",\n",
    "    \"Keluarga\": \"families\",\n",
    "    \"Lelaki Dewasa\": \"men\",\n",
    "    \"Perempuan Dewasa\": \"women\",\n",
    "    \"Kanak-kanak Lelaki\": \"boys\",\n",
    "    \"Kanak-kanak Perempuan\": \"girls\",\n",
    "    \"Bayi Lelaki\": \"baby_boys\",\n",
    "    \"Bayi Perempuan\": \"baby_girls\",\n",
    "}, inplace=True)\n",
    "\n",
    "# Save to CSV (optional)\n",
    "df.to_csv(\"table_data.csv\", index=False)\n",
    "\n",
    "pps_collection = db.collection('pps')\n",
    "\n",
    "# Add each row as a document in the 'pps' collection\n",
    "for _, row in df.iterrows():\n",
    "    pps_collection.document(row['name']).set(row.to_dict())\n",
    "\n",
    "print(\"Data has been stored in Firebase Firestore\")\n",
    "\n",
    "# Close the browser\n",
    "driver.quit()\n"
   ]
  },
  {
   "cell_type": "code",
   "execution_count": null,
   "id": "95fd1885",
   "metadata": {},
   "outputs": [],
   "source": []
  }
 ],
 "metadata": {
  "kernelspec": {
   "display_name": "Python 3 (ipykernel)",
   "language": "python",
   "name": "python3"
  },
  "language_info": {
   "codemirror_mode": {
    "name": "ipython",
    "version": 3
   },
   "file_extension": ".py",
   "mimetype": "text/x-python",
   "name": "python",
   "nbconvert_exporter": "python",
   "pygments_lexer": "ipython3",
   "version": "3.12.3"
  }
 },
 "nbformat": 4,
 "nbformat_minor": 5
}
